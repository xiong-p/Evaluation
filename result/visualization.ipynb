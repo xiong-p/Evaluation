{
 "cells": [
  {
   "cell_type": "code",
   "execution_count": 2,
   "outputs": [],
   "source": [
    "import pandas as pd"
   ],
   "metadata": {
    "collapsed": false
   }
  },
  {
   "cell_type": "code",
   "execution_count": 3,
   "outputs": [
    {
     "data": {
      "text/plain": "       scenario   stage1_cost  stage1_pen    stage2_pen     objective   \n0  scenario_180  34241.905263    0.031294  1.293391e+06  1.327633e+06  \\\n1  scenario_181  33825.228474    0.031172  1.319631e+06  1.353456e+06   \n2  scenario_182  34118.994120    0.030661  1.348910e+06  1.383029e+06   \n3  scenario_183  34744.145669    0.031155  1.265011e+06  1.299755e+06   \n4  scenario_184  34358.823233    0.031064  1.321100e+06  1.355459e+06   \n\n   solve_time  total_time termination_status       type  \n0    9.249415   24.821975     LOCALLY_SOLVED  benchmark  \n1    9.217169   24.857571     LOCALLY_SOLVED  benchmark  \n2    9.217134   24.694096     LOCALLY_SOLVED  benchmark  \n3    9.237945   24.811435     LOCALLY_SOLVED  benchmark  \n4    9.222056   24.928028     LOCALLY_SOLVED  benchmark  ",
      "text/html": "<div>\n<style scoped>\n    .dataframe tbody tr th:only-of-type {\n        vertical-align: middle;\n    }\n\n    .dataframe tbody tr th {\n        vertical-align: top;\n    }\n\n    .dataframe thead th {\n        text-align: right;\n    }\n</style>\n<table border=\"1\" class=\"dataframe\">\n  <thead>\n    <tr style=\"text-align: right;\">\n      <th></th>\n      <th>scenario</th>\n      <th>stage1_cost</th>\n      <th>stage1_pen</th>\n      <th>stage2_pen</th>\n      <th>objective</th>\n      <th>solve_time</th>\n      <th>total_time</th>\n      <th>termination_status</th>\n      <th>type</th>\n    </tr>\n  </thead>\n  <tbody>\n    <tr>\n      <th>0</th>\n      <td>scenario_180</td>\n      <td>34241.905263</td>\n      <td>0.031294</td>\n      <td>1.293391e+06</td>\n      <td>1.327633e+06</td>\n      <td>9.249415</td>\n      <td>24.821975</td>\n      <td>LOCALLY_SOLVED</td>\n      <td>benchmark</td>\n    </tr>\n    <tr>\n      <th>1</th>\n      <td>scenario_181</td>\n      <td>33825.228474</td>\n      <td>0.031172</td>\n      <td>1.319631e+06</td>\n      <td>1.353456e+06</td>\n      <td>9.217169</td>\n      <td>24.857571</td>\n      <td>LOCALLY_SOLVED</td>\n      <td>benchmark</td>\n    </tr>\n    <tr>\n      <th>2</th>\n      <td>scenario_182</td>\n      <td>34118.994120</td>\n      <td>0.030661</td>\n      <td>1.348910e+06</td>\n      <td>1.383029e+06</td>\n      <td>9.217134</td>\n      <td>24.694096</td>\n      <td>LOCALLY_SOLVED</td>\n      <td>benchmark</td>\n    </tr>\n    <tr>\n      <th>3</th>\n      <td>scenario_183</td>\n      <td>34744.145669</td>\n      <td>0.031155</td>\n      <td>1.265011e+06</td>\n      <td>1.299755e+06</td>\n      <td>9.237945</td>\n      <td>24.811435</td>\n      <td>LOCALLY_SOLVED</td>\n      <td>benchmark</td>\n    </tr>\n    <tr>\n      <th>4</th>\n      <td>scenario_184</td>\n      <td>34358.823233</td>\n      <td>0.031064</td>\n      <td>1.321100e+06</td>\n      <td>1.355459e+06</td>\n      <td>9.222056</td>\n      <td>24.928028</td>\n      <td>LOCALLY_SOLVED</td>\n      <td>benchmark</td>\n    </tr>\n  </tbody>\n</table>\n</div>"
     },
     "execution_count": 3,
     "metadata": {},
     "output_type": "execute_result"
    }
   ],
   "source": [
    "benchmark_df = pd.read_csv(\"result_benchmark.csv\", index_col=False)\n",
    "benchmark_df = benchmark_df[[\"scenario\", \"stage1_cost\", \"stage1_pen\", \"stage2_pen\", \"objective\", \"solve_time\", \"total_time\"]]\n",
    "benchmark_df = benchmark_df[40:].reset_index(drop=True)\n",
    "benchmark_df[\"termination_status\"] = \"LOCALLY_SOLVED\"\n",
    "benchmark_df[\"type\"] = \"benchmark\"\n",
    "benchmark_df.head()"
   ],
   "metadata": {
    "collapsed": false
   }
  },
  {
   "cell_type": "code",
   "execution_count": 4,
   "outputs": [
    {
     "data": {
      "text/plain": "       scenario   stage1_cost  stage1_pen     stage2_pen      objective   \n0  scenario_180  43373.991248    0.057635  606427.414763  649801.463646  \\\n1  scenario_181  42943.741314    0.058254  600476.847788  643420.647356   \n2  scenario_182  43265.274912    0.057441  602151.043580  645416.375932   \n3  scenario_183  43720.163135    0.057487  618065.106067  661785.326689   \n4  scenario_184  43320.062931    0.058275  615020.781003  658340.902209   \n\n   solve_time termination_status      type  \n0    4.516358     LOCALLY_SOLVED  hidden_8  \n1    3.652387     LOCALLY_SOLVED  hidden_8  \n2    5.711839     LOCALLY_SOLVED  hidden_8  \n3    6.784605     LOCALLY_SOLVED  hidden_8  \n4    4.249261     LOCALLY_SOLVED  hidden_8  ",
      "text/html": "<div>\n<style scoped>\n    .dataframe tbody tr th:only-of-type {\n        vertical-align: middle;\n    }\n\n    .dataframe tbody tr th {\n        vertical-align: top;\n    }\n\n    .dataframe thead th {\n        text-align: right;\n    }\n</style>\n<table border=\"1\" class=\"dataframe\">\n  <thead>\n    <tr style=\"text-align: right;\">\n      <th></th>\n      <th>scenario</th>\n      <th>stage1_cost</th>\n      <th>stage1_pen</th>\n      <th>stage2_pen</th>\n      <th>objective</th>\n      <th>solve_time</th>\n      <th>termination_status</th>\n      <th>type</th>\n    </tr>\n  </thead>\n  <tbody>\n    <tr>\n      <th>0</th>\n      <td>scenario_180</td>\n      <td>43373.991248</td>\n      <td>0.057635</td>\n      <td>606427.414763</td>\n      <td>649801.463646</td>\n      <td>4.516358</td>\n      <td>LOCALLY_SOLVED</td>\n      <td>hidden_8</td>\n    </tr>\n    <tr>\n      <th>1</th>\n      <td>scenario_181</td>\n      <td>42943.741314</td>\n      <td>0.058254</td>\n      <td>600476.847788</td>\n      <td>643420.647356</td>\n      <td>3.652387</td>\n      <td>LOCALLY_SOLVED</td>\n      <td>hidden_8</td>\n    </tr>\n    <tr>\n      <th>2</th>\n      <td>scenario_182</td>\n      <td>43265.274912</td>\n      <td>0.057441</td>\n      <td>602151.043580</td>\n      <td>645416.375932</td>\n      <td>5.711839</td>\n      <td>LOCALLY_SOLVED</td>\n      <td>hidden_8</td>\n    </tr>\n    <tr>\n      <th>3</th>\n      <td>scenario_183</td>\n      <td>43720.163135</td>\n      <td>0.057487</td>\n      <td>618065.106067</td>\n      <td>661785.326689</td>\n      <td>6.784605</td>\n      <td>LOCALLY_SOLVED</td>\n      <td>hidden_8</td>\n    </tr>\n    <tr>\n      <th>4</th>\n      <td>scenario_184</td>\n      <td>43320.062931</td>\n      <td>0.058275</td>\n      <td>615020.781003</td>\n      <td>658340.902209</td>\n      <td>4.249261</td>\n      <td>LOCALLY_SOLVED</td>\n      <td>hidden_8</td>\n    </tr>\n  </tbody>\n</table>\n</div>"
     },
     "execution_count": 4,
     "metadata": {},
     "output_type": "execute_result"
    }
   ],
   "source": [
    "hidden_8_df = pd.read_csv(\"result_hidden_8_l1_41_grad_41_best.csv\", index_col=False)\n",
    "hidden_8_df = hidden_8_df[40:].reset_index(drop=True)\n",
    "hidden_8_df[\"termination_status\"] = \"LOCALLY_SOLVED\"\n",
    "hidden_8_df[\"type\"] = \"hidden_8\"\n",
    "hidden_8_df.head()"
   ],
   "metadata": {
    "collapsed": false
   }
  },
  {
   "cell_type": "code",
   "execution_count": 5,
   "outputs": [
    {
     "data": {
      "text/plain": "       scenario   stage1_cost  stage1_pen     stage2_pen      objective   \n0  scenario_140  44013.013681    0.057472  625567.582352  669580.653506  \\\n1  scenario_141  43376.582788    0.057446  605819.208633  649195.848868   \n2  scenario_142  39319.518984    0.542944  764339.861454  803659.923381   \n3  scenario_143  43166.933354    0.057417  595728.495656  638895.486427   \n4  scenario_144  43680.390271    0.057413  622489.194553  666169.642237   \n\n   solve_time termination_status            type  \n0    6.209550     LOCALLY_SOLVED  hidden_8_prune  \n1    6.199078     LOCALLY_SOLVED  hidden_8_prune  \n2    9.657878     LOCALLY_SOLVED  hidden_8_prune  \n3    5.454656     LOCALLY_SOLVED  hidden_8_prune  \n4    6.816170     LOCALLY_SOLVED  hidden_8_prune  ",
      "text/html": "<div>\n<style scoped>\n    .dataframe tbody tr th:only-of-type {\n        vertical-align: middle;\n    }\n\n    .dataframe tbody tr th {\n        vertical-align: top;\n    }\n\n    .dataframe thead th {\n        text-align: right;\n    }\n</style>\n<table border=\"1\" class=\"dataframe\">\n  <thead>\n    <tr style=\"text-align: right;\">\n      <th></th>\n      <th>scenario</th>\n      <th>stage1_cost</th>\n      <th>stage1_pen</th>\n      <th>stage2_pen</th>\n      <th>objective</th>\n      <th>solve_time</th>\n      <th>termination_status</th>\n      <th>type</th>\n    </tr>\n  </thead>\n  <tbody>\n    <tr>\n      <th>0</th>\n      <td>scenario_140</td>\n      <td>44013.013681</td>\n      <td>0.057472</td>\n      <td>625567.582352</td>\n      <td>669580.653506</td>\n      <td>6.209550</td>\n      <td>LOCALLY_SOLVED</td>\n      <td>hidden_8_prune</td>\n    </tr>\n    <tr>\n      <th>1</th>\n      <td>scenario_141</td>\n      <td>43376.582788</td>\n      <td>0.057446</td>\n      <td>605819.208633</td>\n      <td>649195.848868</td>\n      <td>6.199078</td>\n      <td>LOCALLY_SOLVED</td>\n      <td>hidden_8_prune</td>\n    </tr>\n    <tr>\n      <th>2</th>\n      <td>scenario_142</td>\n      <td>39319.518984</td>\n      <td>0.542944</td>\n      <td>764339.861454</td>\n      <td>803659.923381</td>\n      <td>9.657878</td>\n      <td>LOCALLY_SOLVED</td>\n      <td>hidden_8_prune</td>\n    </tr>\n    <tr>\n      <th>3</th>\n      <td>scenario_143</td>\n      <td>43166.933354</td>\n      <td>0.057417</td>\n      <td>595728.495656</td>\n      <td>638895.486427</td>\n      <td>5.454656</td>\n      <td>LOCALLY_SOLVED</td>\n      <td>hidden_8_prune</td>\n    </tr>\n    <tr>\n      <th>4</th>\n      <td>scenario_144</td>\n      <td>43680.390271</td>\n      <td>0.057413</td>\n      <td>622489.194553</td>\n      <td>666169.642237</td>\n      <td>6.816170</td>\n      <td>LOCALLY_SOLVED</td>\n      <td>hidden_8_prune</td>\n    </tr>\n  </tbody>\n</table>\n</div>"
     },
     "execution_count": 5,
     "metadata": {},
     "output_type": "execute_result"
    }
   ],
   "source": [
    "hidden_8_prune_df = pd.read_csv(\"result_hidden_8_l1_41_grad_41_pruned.csv\", index_col=False)\n",
    "hidden_8_prune_df[\"termination_status\"] = \"LOCALLY_SOLVED\"\n",
    "hidden_8_prune_df[\"type\"] = \"hidden_8_prune\"\n",
    "hidden_8_prune_df.head()"
   ],
   "metadata": {
    "collapsed": false
   }
  },
  {
   "cell_type": "code",
   "execution_count": 6,
   "outputs": [
    {
     "data": {
      "text/plain": "       scenario   stage1_cost  stage1_pen    stage2_pen     objective   \n0  scenario_180  27445.122495    0.089707  6.646914e+06  6.674359e+06  \\\n1  scenario_181  43973.804878    0.475148  5.979968e+05  6.419711e+05   \n2  scenario_182  44324.135772    0.478547  5.942407e+05  6.385653e+05   \n3  scenario_183  44598.489503    0.478576  5.969642e+05  6.415632e+05   \n4  scenario_184  27384.367738    0.637672  6.400642e+06  6.428027e+06   \n\n   solve_time termination_status       type  \n0    5.277060     LOCALLY_SOLVED  hidden_16  \n1    6.424266     LOCALLY_SOLVED  hidden_16  \n2    6.703524     LOCALLY_SOLVED  hidden_16  \n3    5.030261     LOCALLY_SOLVED  hidden_16  \n4    3.108723     LOCALLY_SOLVED  hidden_16  ",
      "text/html": "<div>\n<style scoped>\n    .dataframe tbody tr th:only-of-type {\n        vertical-align: middle;\n    }\n\n    .dataframe tbody tr th {\n        vertical-align: top;\n    }\n\n    .dataframe thead th {\n        text-align: right;\n    }\n</style>\n<table border=\"1\" class=\"dataframe\">\n  <thead>\n    <tr style=\"text-align: right;\">\n      <th></th>\n      <th>scenario</th>\n      <th>stage1_cost</th>\n      <th>stage1_pen</th>\n      <th>stage2_pen</th>\n      <th>objective</th>\n      <th>solve_time</th>\n      <th>termination_status</th>\n      <th>type</th>\n    </tr>\n  </thead>\n  <tbody>\n    <tr>\n      <th>0</th>\n      <td>scenario_180</td>\n      <td>27445.122495</td>\n      <td>0.089707</td>\n      <td>6.646914e+06</td>\n      <td>6.674359e+06</td>\n      <td>5.277060</td>\n      <td>LOCALLY_SOLVED</td>\n      <td>hidden_16</td>\n    </tr>\n    <tr>\n      <th>1</th>\n      <td>scenario_181</td>\n      <td>43973.804878</td>\n      <td>0.475148</td>\n      <td>5.979968e+05</td>\n      <td>6.419711e+05</td>\n      <td>6.424266</td>\n      <td>LOCALLY_SOLVED</td>\n      <td>hidden_16</td>\n    </tr>\n    <tr>\n      <th>2</th>\n      <td>scenario_182</td>\n      <td>44324.135772</td>\n      <td>0.478547</td>\n      <td>5.942407e+05</td>\n      <td>6.385653e+05</td>\n      <td>6.703524</td>\n      <td>LOCALLY_SOLVED</td>\n      <td>hidden_16</td>\n    </tr>\n    <tr>\n      <th>3</th>\n      <td>scenario_183</td>\n      <td>44598.489503</td>\n      <td>0.478576</td>\n      <td>5.969642e+05</td>\n      <td>6.415632e+05</td>\n      <td>5.030261</td>\n      <td>LOCALLY_SOLVED</td>\n      <td>hidden_16</td>\n    </tr>\n    <tr>\n      <th>4</th>\n      <td>scenario_184</td>\n      <td>27384.367738</td>\n      <td>0.637672</td>\n      <td>6.400642e+06</td>\n      <td>6.428027e+06</td>\n      <td>3.108723</td>\n      <td>LOCALLY_SOLVED</td>\n      <td>hidden_16</td>\n    </tr>\n  </tbody>\n</table>\n</div>"
     },
     "execution_count": 6,
     "metadata": {},
     "output_type": "execute_result"
    }
   ],
   "source": [
    "hidden_16_df = pd.read_csv(\"result_hidden_16_l1_41_grad_51_best.csv\", index_col=False)\n",
    "hidden_16_df[\"type\"] = \"hidden_16\"\n",
    "hidden_16_df.head()"
   ],
   "metadata": {
    "collapsed": false
   }
  },
  {
   "cell_type": "code",
   "execution_count": 7,
   "outputs": [
    {
     "data": {
      "text/plain": "       scenario   stage1_cost  stage1_pen     stage2_pen      objective   \n0  scenario_180  46685.356228    0.135212  495676.077742  542361.569182  \\\n1  scenario_181  46468.391384    0.135254  491543.049343  538011.575981   \n2  scenario_182  46656.623726    0.176411  489571.112774  536227.912911   \n3  scenario_183  46872.991674    0.177430  522317.498282  569190.667385   \n4  scenario_184  46611.988655    0.135466  485762.223630  532374.347752   \n\n   solve_time termination_status       type  \n0    8.685678     LOCALLY_SOLVED  hidden_32  \n1    4.954286     LOCALLY_SOLVED  hidden_32  \n2   25.398391     LOCALLY_SOLVED  hidden_32  \n3    3.991778     LOCALLY_SOLVED  hidden_32  \n4    8.174741     LOCALLY_SOLVED  hidden_32  ",
      "text/html": "<div>\n<style scoped>\n    .dataframe tbody tr th:only-of-type {\n        vertical-align: middle;\n    }\n\n    .dataframe tbody tr th {\n        vertical-align: top;\n    }\n\n    .dataframe thead th {\n        text-align: right;\n    }\n</style>\n<table border=\"1\" class=\"dataframe\">\n  <thead>\n    <tr style=\"text-align: right;\">\n      <th></th>\n      <th>scenario</th>\n      <th>stage1_cost</th>\n      <th>stage1_pen</th>\n      <th>stage2_pen</th>\n      <th>objective</th>\n      <th>solve_time</th>\n      <th>termination_status</th>\n      <th>type</th>\n    </tr>\n  </thead>\n  <tbody>\n    <tr>\n      <th>0</th>\n      <td>scenario_180</td>\n      <td>46685.356228</td>\n      <td>0.135212</td>\n      <td>495676.077742</td>\n      <td>542361.569182</td>\n      <td>8.685678</td>\n      <td>LOCALLY_SOLVED</td>\n      <td>hidden_32</td>\n    </tr>\n    <tr>\n      <th>1</th>\n      <td>scenario_181</td>\n      <td>46468.391384</td>\n      <td>0.135254</td>\n      <td>491543.049343</td>\n      <td>538011.575981</td>\n      <td>4.954286</td>\n      <td>LOCALLY_SOLVED</td>\n      <td>hidden_32</td>\n    </tr>\n    <tr>\n      <th>2</th>\n      <td>scenario_182</td>\n      <td>46656.623726</td>\n      <td>0.176411</td>\n      <td>489571.112774</td>\n      <td>536227.912911</td>\n      <td>25.398391</td>\n      <td>LOCALLY_SOLVED</td>\n      <td>hidden_32</td>\n    </tr>\n    <tr>\n      <th>3</th>\n      <td>scenario_183</td>\n      <td>46872.991674</td>\n      <td>0.177430</td>\n      <td>522317.498282</td>\n      <td>569190.667385</td>\n      <td>3.991778</td>\n      <td>LOCALLY_SOLVED</td>\n      <td>hidden_32</td>\n    </tr>\n    <tr>\n      <th>4</th>\n      <td>scenario_184</td>\n      <td>46611.988655</td>\n      <td>0.135466</td>\n      <td>485762.223630</td>\n      <td>532374.347752</td>\n      <td>8.174741</td>\n      <td>LOCALLY_SOLVED</td>\n      <td>hidden_32</td>\n    </tr>\n  </tbody>\n</table>\n</div>"
     },
     "execution_count": 7,
     "metadata": {},
     "output_type": "execute_result"
    }
   ],
   "source": [
    "hidden_32_df = pd.read_csv(\"result_hidden_32_l1_51_grad_541_best.csv\", index_col=False)\n",
    "hidden_32_df[\"type\"] = \"hidden_32\"\n",
    "hidden_32_df.head()"
   ],
   "metadata": {
    "collapsed": false
   }
  },
  {
   "cell_type": "code",
   "execution_count": 8,
   "outputs": [
    {
     "data": {
      "text/plain": "       scenario   stage1_cost  stage1_pen     stage2_pen      objective   \n0  scenario_180  45466.966577    0.255978  566238.911420  611706.133975  \\\n1  scenario_181  45302.745072    0.254031  547009.574769  592312.573872   \n2  scenario_182  45421.708443    0.256447  561084.023954  606505.988845   \n3  scenario_183  45623.214544    0.254436  589702.104702  635325.573683   \n4  scenario_184  45318.692202    0.250018  540883.184975  586202.127195   \n\n   solve_time termination_status          type  \n0   16.005674     LOCALLY_SOLVED  hidden_32 v2  \n1   14.634184     LOCALLY_SOLVED  hidden_32 v2  \n2   25.704164    NUMERICAL_ERROR  hidden_32 v2  \n3    7.191692     LOCALLY_SOLVED  hidden_32 v2  \n4   17.702029     LOCALLY_SOLVED  hidden_32 v2  ",
      "text/html": "<div>\n<style scoped>\n    .dataframe tbody tr th:only-of-type {\n        vertical-align: middle;\n    }\n\n    .dataframe tbody tr th {\n        vertical-align: top;\n    }\n\n    .dataframe thead th {\n        text-align: right;\n    }\n</style>\n<table border=\"1\" class=\"dataframe\">\n  <thead>\n    <tr style=\"text-align: right;\">\n      <th></th>\n      <th>scenario</th>\n      <th>stage1_cost</th>\n      <th>stage1_pen</th>\n      <th>stage2_pen</th>\n      <th>objective</th>\n      <th>solve_time</th>\n      <th>termination_status</th>\n      <th>type</th>\n    </tr>\n  </thead>\n  <tbody>\n    <tr>\n      <th>0</th>\n      <td>scenario_180</td>\n      <td>45466.966577</td>\n      <td>0.255978</td>\n      <td>566238.911420</td>\n      <td>611706.133975</td>\n      <td>16.005674</td>\n      <td>LOCALLY_SOLVED</td>\n      <td>hidden_32 v2</td>\n    </tr>\n    <tr>\n      <th>1</th>\n      <td>scenario_181</td>\n      <td>45302.745072</td>\n      <td>0.254031</td>\n      <td>547009.574769</td>\n      <td>592312.573872</td>\n      <td>14.634184</td>\n      <td>LOCALLY_SOLVED</td>\n      <td>hidden_32 v2</td>\n    </tr>\n    <tr>\n      <th>2</th>\n      <td>scenario_182</td>\n      <td>45421.708443</td>\n      <td>0.256447</td>\n      <td>561084.023954</td>\n      <td>606505.988845</td>\n      <td>25.704164</td>\n      <td>NUMERICAL_ERROR</td>\n      <td>hidden_32 v2</td>\n    </tr>\n    <tr>\n      <th>3</th>\n      <td>scenario_183</td>\n      <td>45623.214544</td>\n      <td>0.254436</td>\n      <td>589702.104702</td>\n      <td>635325.573683</td>\n      <td>7.191692</td>\n      <td>LOCALLY_SOLVED</td>\n      <td>hidden_32 v2</td>\n    </tr>\n    <tr>\n      <th>4</th>\n      <td>scenario_184</td>\n      <td>45318.692202</td>\n      <td>0.250018</td>\n      <td>540883.184975</td>\n      <td>586202.127195</td>\n      <td>17.702029</td>\n      <td>LOCALLY_SOLVED</td>\n      <td>hidden_32 v2</td>\n    </tr>\n  </tbody>\n</table>\n</div>"
     },
     "execution_count": 8,
     "metadata": {},
     "output_type": "execute_result"
    }
   ],
   "source": [
    "hidden_32_df_2 = pd.read_csv(\"result_hidden_32_l1_41_grad_31_best.csv\", index_col=False)\n",
    "hidden_32_df_2[\"type\"] = \"hidden_32 v2\"\n",
    "hidden_32_df_2.head()"
   ],
   "metadata": {
    "collapsed": false
   }
  },
  {
   "cell_type": "code",
   "execution_count": 9,
   "outputs": [
    {
     "data": {
      "text/plain": "       scenario   stage1_cost  stage1_pen     stage2_pen      objective   \n0  scenario_180  44378.259673    0.466356  913576.778844  957955.504873  \\\n1  scenario_181  43968.056477    0.317396  867435.423672  911403.797545   \n2  scenario_182  44217.356256    0.342678  867201.626727  911419.325660   \n3  scenario_183  44381.269504    0.344602  895510.209802  939891.823908   \n4  scenario_184  44280.476282    0.473904  917242.280709  961523.230896   \n\n   solve_time termination_status           type  \n0    4.753929     LOCALLY_SOLVED  hidden_8_32_8  \n1    3.682068     LOCALLY_SOLVED  hidden_8_32_8  \n2    3.390054     LOCALLY_SOLVED  hidden_8_32_8  \n3    5.318376     LOCALLY_SOLVED  hidden_8_32_8  \n4    3.911900     LOCALLY_SOLVED  hidden_8_32_8  ",
      "text/html": "<div>\n<style scoped>\n    .dataframe tbody tr th:only-of-type {\n        vertical-align: middle;\n    }\n\n    .dataframe tbody tr th {\n        vertical-align: top;\n    }\n\n    .dataframe thead th {\n        text-align: right;\n    }\n</style>\n<table border=\"1\" class=\"dataframe\">\n  <thead>\n    <tr style=\"text-align: right;\">\n      <th></th>\n      <th>scenario</th>\n      <th>stage1_cost</th>\n      <th>stage1_pen</th>\n      <th>stage2_pen</th>\n      <th>objective</th>\n      <th>solve_time</th>\n      <th>termination_status</th>\n      <th>type</th>\n    </tr>\n  </thead>\n  <tbody>\n    <tr>\n      <th>0</th>\n      <td>scenario_180</td>\n      <td>44378.259673</td>\n      <td>0.466356</td>\n      <td>913576.778844</td>\n      <td>957955.504873</td>\n      <td>4.753929</td>\n      <td>LOCALLY_SOLVED</td>\n      <td>hidden_8_32_8</td>\n    </tr>\n    <tr>\n      <th>1</th>\n      <td>scenario_181</td>\n      <td>43968.056477</td>\n      <td>0.317396</td>\n      <td>867435.423672</td>\n      <td>911403.797545</td>\n      <td>3.682068</td>\n      <td>LOCALLY_SOLVED</td>\n      <td>hidden_8_32_8</td>\n    </tr>\n    <tr>\n      <th>2</th>\n      <td>scenario_182</td>\n      <td>44217.356256</td>\n      <td>0.342678</td>\n      <td>867201.626727</td>\n      <td>911419.325660</td>\n      <td>3.390054</td>\n      <td>LOCALLY_SOLVED</td>\n      <td>hidden_8_32_8</td>\n    </tr>\n    <tr>\n      <th>3</th>\n      <td>scenario_183</td>\n      <td>44381.269504</td>\n      <td>0.344602</td>\n      <td>895510.209802</td>\n      <td>939891.823908</td>\n      <td>5.318376</td>\n      <td>LOCALLY_SOLVED</td>\n      <td>hidden_8_32_8</td>\n    </tr>\n    <tr>\n      <th>4</th>\n      <td>scenario_184</td>\n      <td>44280.476282</td>\n      <td>0.473904</td>\n      <td>917242.280709</td>\n      <td>961523.230896</td>\n      <td>3.911900</td>\n      <td>LOCALLY_SOLVED</td>\n      <td>hidden_8_32_8</td>\n    </tr>\n  </tbody>\n</table>\n</div>"
     },
     "execution_count": 9,
     "metadata": {},
     "output_type": "execute_result"
    }
   ],
   "source": [
    "hidden_8_32_8_df = pd.read_csv(\"result_hidden_8_32_8_l1_51_grad_41_best.csv\", index_col=False)\n",
    "hidden_8_32_8_df[\"type\"] = \"hidden_8_32_8\"\n",
    "hidden_8_32_8_df.head()"
   ],
   "metadata": {
    "collapsed": false
   }
  },
  {
   "cell_type": "code",
   "execution_count": 10,
   "outputs": [
    {
     "data": {
      "text/plain": "       scenario   stage1_cost  stage1_pen     stage2_pen      objective   \n0  scenario_180  44249.461888    0.419162  579331.247595  623581.128645  \\\n1  scenario_181  42878.089067    0.374750  597098.342326  639976.806143   \n2  scenario_182  44236.857728    0.418871  574134.420227  618371.696827   \n3  scenario_183  44736.918010    0.417510  580879.334074  625616.669594   \n4  scenario_184  44452.493243    0.418243  610049.626692  654502.538178   \n\n   solve_time termination_status           type  \n0    3.348326     LOCALLY_SOLVED  hidden_8_64_8  \n1    3.291251     LOCALLY_SOLVED  hidden_8_64_8  \n2    3.061305     LOCALLY_SOLVED  hidden_8_64_8  \n3    3.125410     LOCALLY_SOLVED  hidden_8_64_8  \n4    3.386353     LOCALLY_SOLVED  hidden_8_64_8  ",
      "text/html": "<div>\n<style scoped>\n    .dataframe tbody tr th:only-of-type {\n        vertical-align: middle;\n    }\n\n    .dataframe tbody tr th {\n        vertical-align: top;\n    }\n\n    .dataframe thead th {\n        text-align: right;\n    }\n</style>\n<table border=\"1\" class=\"dataframe\">\n  <thead>\n    <tr style=\"text-align: right;\">\n      <th></th>\n      <th>scenario</th>\n      <th>stage1_cost</th>\n      <th>stage1_pen</th>\n      <th>stage2_pen</th>\n      <th>objective</th>\n      <th>solve_time</th>\n      <th>termination_status</th>\n      <th>type</th>\n    </tr>\n  </thead>\n  <tbody>\n    <tr>\n      <th>0</th>\n      <td>scenario_180</td>\n      <td>44249.461888</td>\n      <td>0.419162</td>\n      <td>579331.247595</td>\n      <td>623581.128645</td>\n      <td>3.348326</td>\n      <td>LOCALLY_SOLVED</td>\n      <td>hidden_8_64_8</td>\n    </tr>\n    <tr>\n      <th>1</th>\n      <td>scenario_181</td>\n      <td>42878.089067</td>\n      <td>0.374750</td>\n      <td>597098.342326</td>\n      <td>639976.806143</td>\n      <td>3.291251</td>\n      <td>LOCALLY_SOLVED</td>\n      <td>hidden_8_64_8</td>\n    </tr>\n    <tr>\n      <th>2</th>\n      <td>scenario_182</td>\n      <td>44236.857728</td>\n      <td>0.418871</td>\n      <td>574134.420227</td>\n      <td>618371.696827</td>\n      <td>3.061305</td>\n      <td>LOCALLY_SOLVED</td>\n      <td>hidden_8_64_8</td>\n    </tr>\n    <tr>\n      <th>3</th>\n      <td>scenario_183</td>\n      <td>44736.918010</td>\n      <td>0.417510</td>\n      <td>580879.334074</td>\n      <td>625616.669594</td>\n      <td>3.125410</td>\n      <td>LOCALLY_SOLVED</td>\n      <td>hidden_8_64_8</td>\n    </tr>\n    <tr>\n      <th>4</th>\n      <td>scenario_184</td>\n      <td>44452.493243</td>\n      <td>0.418243</td>\n      <td>610049.626692</td>\n      <td>654502.538178</td>\n      <td>3.386353</td>\n      <td>LOCALLY_SOLVED</td>\n      <td>hidden_8_64_8</td>\n    </tr>\n  </tbody>\n</table>\n</div>"
     },
     "execution_count": 10,
     "metadata": {},
     "output_type": "execute_result"
    }
   ],
   "source": [
    "hidden_8_64_8_df = pd.read_csv(\"result_hidden_8_64_8_l1_0_grad_41_best.csv\", index_col=False)\n",
    "hidden_8_64_8_df[\"type\"] = \"hidden_8_64_8\"\n",
    "hidden_8_64_8_df.head()"
   ],
   "metadata": {
    "collapsed": false
   }
  },
  {
   "cell_type": "code",
   "execution_count": 11,
   "outputs": [],
   "source": [
    "df = pd.concat([benchmark_df[:-5], hidden_8_df[:-5], hidden_16_df[:-5], hidden_32_df[:-5], hidden_8_32_8_df[:-5], hidden_8_64_8_df[:-5], hidden_32_df_2[:-5], hidden_8_prune_df[:-5]])\n",
    "df_large = pd.concat([benchmark_df[-5:], hidden_8_df[-5:], hidden_16_df[-5:], hidden_32_df[-5:], hidden_8_32_8_df[-5:], hidden_8_64_8_df[-5:], hidden_32_df_2[-5:], hidden_8_prune_df[-5:]])"
   ],
   "metadata": {
    "collapsed": false
   }
  },
  {
   "cell_type": "code",
   "execution_count": 12,
   "outputs": [
    {
     "data": {
      "text/plain": "                   objective               solve_time            total_time   \n                        mean           std       mean        std       mean   \ntype                                                                          \nbenchmark       1.359627e+06  6.091094e+04   9.276888   0.072168  24.951927  \\\nhidden_16       4.026682e+06  3.011615e+06   5.278171   1.569037   5.278171   \nhidden_32       5.539752e+05  1.957712e+04   9.838407  11.113256   9.838407   \nhidden_32 v2    6.099992e+05  2.513204e+04  16.437959   7.112859  16.437959   \nhidden_8        6.504994e+05  1.259984e+04   5.245105   1.369015   5.245105   \nhidden_8_32_8   9.777391e+05  1.690237e+05   3.852974   0.782159   3.852974   \nhidden_8_64_8   6.259218e+05  1.030103e+04   3.493812   0.417340   3.493812   \nhidden_8_prune  6.651424e+05  3.988612e+04   6.259354   1.975761   6.259354   \n\n                            stage1_cost              stage1_pen             \n                      std          mean          std       mean       std   \ntype                                                                        \nbenchmark        0.182494  34241.891591   361.279578   0.031085  0.000743  \\\nhidden_16        1.569037  34690.370862  8639.600087   0.409388  0.264948   \nhidden_32       11.113256  46681.304534   214.124786   0.157869  0.022951   \nhidden_32 v2     7.112859  45449.745271   277.567487   0.254284  0.002684   \nhidden_8         1.369015  43331.645213   403.660956   0.057750  0.000364   \nhidden_8_32_8    0.782159  43969.979332  1510.727961   0.393110  0.067979   \nhidden_8_64_8    0.417340  44286.246546   516.315993   0.415677  0.011450   \nhidden_8_prune   1.975761  43233.991843  1119.404788   0.087924  0.121339   \n\n                  stage2_pen               termination_status  \n                        mean           std                sum  \ntype                                                           \nbenchmark       1.325386e+06  6.071956e+04                 21  \nhidden_16       3.991991e+06  3.020174e+06                 21  \nhidden_32       5.072937e+05  1.940542e+04                 20  \nhidden_32 v2    5.645492e+05  2.486097e+04                 19  \nhidden_8        6.071677e+05  1.223858e+04                 21  \nhidden_8_32_8   9.337688e+05  1.704821e+05                 21  \nhidden_8_64_8   5.816351e+05  1.049908e+04                 21  \nhidden_8_prune  6.219084e+05  4.071497e+04                 16  ",
      "text/html": "<div>\n<style scoped>\n    .dataframe tbody tr th:only-of-type {\n        vertical-align: middle;\n    }\n\n    .dataframe tbody tr th {\n        vertical-align: top;\n    }\n\n    .dataframe thead tr th {\n        text-align: left;\n    }\n\n    .dataframe thead tr:last-of-type th {\n        text-align: right;\n    }\n</style>\n<table border=\"1\" class=\"dataframe\">\n  <thead>\n    <tr>\n      <th></th>\n      <th colspan=\"2\" halign=\"left\">objective</th>\n      <th colspan=\"2\" halign=\"left\">solve_time</th>\n      <th colspan=\"2\" halign=\"left\">total_time</th>\n      <th colspan=\"2\" halign=\"left\">stage1_cost</th>\n      <th colspan=\"2\" halign=\"left\">stage1_pen</th>\n      <th colspan=\"2\" halign=\"left\">stage2_pen</th>\n      <th>termination_status</th>\n    </tr>\n    <tr>\n      <th></th>\n      <th>mean</th>\n      <th>std</th>\n      <th>mean</th>\n      <th>std</th>\n      <th>mean</th>\n      <th>std</th>\n      <th>mean</th>\n      <th>std</th>\n      <th>mean</th>\n      <th>std</th>\n      <th>mean</th>\n      <th>std</th>\n      <th>sum</th>\n    </tr>\n    <tr>\n      <th>type</th>\n      <th></th>\n      <th></th>\n      <th></th>\n      <th></th>\n      <th></th>\n      <th></th>\n      <th></th>\n      <th></th>\n      <th></th>\n      <th></th>\n      <th></th>\n      <th></th>\n      <th></th>\n    </tr>\n  </thead>\n  <tbody>\n    <tr>\n      <th>benchmark</th>\n      <td>1.359627e+06</td>\n      <td>6.091094e+04</td>\n      <td>9.276888</td>\n      <td>0.072168</td>\n      <td>24.951927</td>\n      <td>0.182494</td>\n      <td>34241.891591</td>\n      <td>361.279578</td>\n      <td>0.031085</td>\n      <td>0.000743</td>\n      <td>1.325386e+06</td>\n      <td>6.071956e+04</td>\n      <td>21</td>\n    </tr>\n    <tr>\n      <th>hidden_16</th>\n      <td>4.026682e+06</td>\n      <td>3.011615e+06</td>\n      <td>5.278171</td>\n      <td>1.569037</td>\n      <td>5.278171</td>\n      <td>1.569037</td>\n      <td>34690.370862</td>\n      <td>8639.600087</td>\n      <td>0.409388</td>\n      <td>0.264948</td>\n      <td>3.991991e+06</td>\n      <td>3.020174e+06</td>\n      <td>21</td>\n    </tr>\n    <tr>\n      <th>hidden_32</th>\n      <td>5.539752e+05</td>\n      <td>1.957712e+04</td>\n      <td>9.838407</td>\n      <td>11.113256</td>\n      <td>9.838407</td>\n      <td>11.113256</td>\n      <td>46681.304534</td>\n      <td>214.124786</td>\n      <td>0.157869</td>\n      <td>0.022951</td>\n      <td>5.072937e+05</td>\n      <td>1.940542e+04</td>\n      <td>20</td>\n    </tr>\n    <tr>\n      <th>hidden_32 v2</th>\n      <td>6.099992e+05</td>\n      <td>2.513204e+04</td>\n      <td>16.437959</td>\n      <td>7.112859</td>\n      <td>16.437959</td>\n      <td>7.112859</td>\n      <td>45449.745271</td>\n      <td>277.567487</td>\n      <td>0.254284</td>\n      <td>0.002684</td>\n      <td>5.645492e+05</td>\n      <td>2.486097e+04</td>\n      <td>19</td>\n    </tr>\n    <tr>\n      <th>hidden_8</th>\n      <td>6.504994e+05</td>\n      <td>1.259984e+04</td>\n      <td>5.245105</td>\n      <td>1.369015</td>\n      <td>5.245105</td>\n      <td>1.369015</td>\n      <td>43331.645213</td>\n      <td>403.660956</td>\n      <td>0.057750</td>\n      <td>0.000364</td>\n      <td>6.071677e+05</td>\n      <td>1.223858e+04</td>\n      <td>21</td>\n    </tr>\n    <tr>\n      <th>hidden_8_32_8</th>\n      <td>9.777391e+05</td>\n      <td>1.690237e+05</td>\n      <td>3.852974</td>\n      <td>0.782159</td>\n      <td>3.852974</td>\n      <td>0.782159</td>\n      <td>43969.979332</td>\n      <td>1510.727961</td>\n      <td>0.393110</td>\n      <td>0.067979</td>\n      <td>9.337688e+05</td>\n      <td>1.704821e+05</td>\n      <td>21</td>\n    </tr>\n    <tr>\n      <th>hidden_8_64_8</th>\n      <td>6.259218e+05</td>\n      <td>1.030103e+04</td>\n      <td>3.493812</td>\n      <td>0.417340</td>\n      <td>3.493812</td>\n      <td>0.417340</td>\n      <td>44286.246546</td>\n      <td>516.315993</td>\n      <td>0.415677</td>\n      <td>0.011450</td>\n      <td>5.816351e+05</td>\n      <td>1.049908e+04</td>\n      <td>21</td>\n    </tr>\n    <tr>\n      <th>hidden_8_prune</th>\n      <td>6.651424e+05</td>\n      <td>3.988612e+04</td>\n      <td>6.259354</td>\n      <td>1.975761</td>\n      <td>6.259354</td>\n      <td>1.975761</td>\n      <td>43233.991843</td>\n      <td>1119.404788</td>\n      <td>0.087924</td>\n      <td>0.121339</td>\n      <td>6.219084e+05</td>\n      <td>4.071497e+04</td>\n      <td>16</td>\n    </tr>\n  </tbody>\n</table>\n</div>"
     },
     "execution_count": 12,
     "metadata": {},
     "output_type": "execute_result"
    }
   ],
   "source": [
    "df.drop(columns=\"scenario\", inplace=True)\n",
    "df[\"termination_status\"] = df[\"termination_status\"] == \"LOCALLY_SOLVED\"\n",
    "df[\"total_time\"].fillna(df[\"solve_time\"], inplace=True)\n",
    "df.groupby(\"type\").agg({\"objective\": [\"mean\", \"std\"], \"solve_time\": [\"mean\", \"std\"], \"total_time\": [\"mean\", \"std\"], \"stage1_cost\": [\"mean\", \"std\"], \"stage1_pen\": [\"mean\", \"std\"], \"stage2_pen\": [\"mean\", \"std\"], \"termination_status\": [\"sum\"]})"
   ],
   "metadata": {
    "collapsed": false
   }
  },
  {
   "cell_type": "code",
   "execution_count": 76,
   "outputs": [
    {
     "data": {
      "text/plain": "                  objective               solve_time            total_time   \n                       mean           std       mean        std       mean   \ntype                                                                         \nbenchmark      1.379132e+06  1.375763e+05   9.252182   0.043052  24.902212  \\\nhidden_16      2.716950e+06  2.860733e+06   5.516349   1.594919   5.516349   \nhidden_32      5.742366e+05  5.022350e+04   5.005247   1.698739   5.005247   \nhidden_32 v2   5.974944e+05  4.716207e+04  23.402103  10.336440  23.402103   \nhidden_8       6.601148e+05  2.531122e+04   7.536247   3.706512   7.536247   \nhidden_8_32_8  9.019847e+05  7.540228e+04   9.218676  11.355460   9.218676   \nhidden_8_64_8  6.220709e+05  2.586406e+04   3.665763   0.434097   3.665763   \n\n                           stage1_cost              stage1_pen             \n                     std          mean          std       mean       std   \ntype                                                                       \nbenchmark       0.134136  34418.630877   702.545990   0.031084  0.000564  \\\nhidden_16       1.594919  37699.171288  9644.683316   0.483150  0.254354   \nhidden_32       1.698739  46740.384618   493.890963   0.221112  0.111375   \nhidden_32 v2   10.336440  45512.978116   787.287676   0.222022  0.065198   \nhidden_8        3.706512  43494.914024   814.901800   0.057321  0.000249   \nhidden_8_32_8  11.355460  43598.897121  2307.860440   0.389042  0.098384   \nhidden_8_64_8   0.434097  44494.730445   976.095769   0.320991  0.136868   \n\n                 stage2_pen               termination_status  \n                       mean           std                sum  \ntype                                                          \nbenchmark      1.344713e+06  1.370862e+05                  5  \nhidden_16      2.679250e+06  2.870301e+06                  5  \nhidden_32      5.274960e+05  4.974601e+04                  5  \nhidden_32 v2   5.519812e+05  4.638699e+04                  3  \nhidden_8       6.166198e+05  2.456501e+04                  5  \nhidden_8_32_8  8.583854e+05  7.329559e+04                  5  \nhidden_8_64_8  5.775759e+05  2.663200e+04                  5  ",
      "text/html": "<div>\n<style scoped>\n    .dataframe tbody tr th:only-of-type {\n        vertical-align: middle;\n    }\n\n    .dataframe tbody tr th {\n        vertical-align: top;\n    }\n\n    .dataframe thead tr th {\n        text-align: left;\n    }\n\n    .dataframe thead tr:last-of-type th {\n        text-align: right;\n    }\n</style>\n<table border=\"1\" class=\"dataframe\">\n  <thead>\n    <tr>\n      <th></th>\n      <th colspan=\"2\" halign=\"left\">objective</th>\n      <th colspan=\"2\" halign=\"left\">solve_time</th>\n      <th colspan=\"2\" halign=\"left\">total_time</th>\n      <th colspan=\"2\" halign=\"left\">stage1_cost</th>\n      <th colspan=\"2\" halign=\"left\">stage1_pen</th>\n      <th colspan=\"2\" halign=\"left\">stage2_pen</th>\n      <th>termination_status</th>\n    </tr>\n    <tr>\n      <th></th>\n      <th>mean</th>\n      <th>std</th>\n      <th>mean</th>\n      <th>std</th>\n      <th>mean</th>\n      <th>std</th>\n      <th>mean</th>\n      <th>std</th>\n      <th>mean</th>\n      <th>std</th>\n      <th>mean</th>\n      <th>std</th>\n      <th>sum</th>\n    </tr>\n    <tr>\n      <th>type</th>\n      <th></th>\n      <th></th>\n      <th></th>\n      <th></th>\n      <th></th>\n      <th></th>\n      <th></th>\n      <th></th>\n      <th></th>\n      <th></th>\n      <th></th>\n      <th></th>\n      <th></th>\n    </tr>\n  </thead>\n  <tbody>\n    <tr>\n      <th>benchmark</th>\n      <td>1.379132e+06</td>\n      <td>1.375763e+05</td>\n      <td>9.252182</td>\n      <td>0.043052</td>\n      <td>24.902212</td>\n      <td>0.134136</td>\n      <td>34418.630877</td>\n      <td>702.545990</td>\n      <td>0.031084</td>\n      <td>0.000564</td>\n      <td>1.344713e+06</td>\n      <td>1.370862e+05</td>\n      <td>5</td>\n    </tr>\n    <tr>\n      <th>hidden_16</th>\n      <td>2.716950e+06</td>\n      <td>2.860733e+06</td>\n      <td>5.516349</td>\n      <td>1.594919</td>\n      <td>5.516349</td>\n      <td>1.594919</td>\n      <td>37699.171288</td>\n      <td>9644.683316</td>\n      <td>0.483150</td>\n      <td>0.254354</td>\n      <td>2.679250e+06</td>\n      <td>2.870301e+06</td>\n      <td>5</td>\n    </tr>\n    <tr>\n      <th>hidden_32</th>\n      <td>5.742366e+05</td>\n      <td>5.022350e+04</td>\n      <td>5.005247</td>\n      <td>1.698739</td>\n      <td>5.005247</td>\n      <td>1.698739</td>\n      <td>46740.384618</td>\n      <td>493.890963</td>\n      <td>0.221112</td>\n      <td>0.111375</td>\n      <td>5.274960e+05</td>\n      <td>4.974601e+04</td>\n      <td>5</td>\n    </tr>\n    <tr>\n      <th>hidden_32 v2</th>\n      <td>5.974944e+05</td>\n      <td>4.716207e+04</td>\n      <td>23.402103</td>\n      <td>10.336440</td>\n      <td>23.402103</td>\n      <td>10.336440</td>\n      <td>45512.978116</td>\n      <td>787.287676</td>\n      <td>0.222022</td>\n      <td>0.065198</td>\n      <td>5.519812e+05</td>\n      <td>4.638699e+04</td>\n      <td>3</td>\n    </tr>\n    <tr>\n      <th>hidden_8</th>\n      <td>6.601148e+05</td>\n      <td>2.531122e+04</td>\n      <td>7.536247</td>\n      <td>3.706512</td>\n      <td>7.536247</td>\n      <td>3.706512</td>\n      <td>43494.914024</td>\n      <td>814.901800</td>\n      <td>0.057321</td>\n      <td>0.000249</td>\n      <td>6.166198e+05</td>\n      <td>2.456501e+04</td>\n      <td>5</td>\n    </tr>\n    <tr>\n      <th>hidden_8_32_8</th>\n      <td>9.019847e+05</td>\n      <td>7.540228e+04</td>\n      <td>9.218676</td>\n      <td>11.355460</td>\n      <td>9.218676</td>\n      <td>11.355460</td>\n      <td>43598.897121</td>\n      <td>2307.860440</td>\n      <td>0.389042</td>\n      <td>0.098384</td>\n      <td>8.583854e+05</td>\n      <td>7.329559e+04</td>\n      <td>5</td>\n    </tr>\n    <tr>\n      <th>hidden_8_64_8</th>\n      <td>6.220709e+05</td>\n      <td>2.586406e+04</td>\n      <td>3.665763</td>\n      <td>0.434097</td>\n      <td>3.665763</td>\n      <td>0.434097</td>\n      <td>44494.730445</td>\n      <td>976.095769</td>\n      <td>0.320991</td>\n      <td>0.136868</td>\n      <td>5.775759e+05</td>\n      <td>2.663200e+04</td>\n      <td>5</td>\n    </tr>\n  </tbody>\n</table>\n</div>"
     },
     "execution_count": 76,
     "metadata": {},
     "output_type": "execute_result"
    }
   ],
   "source": [
    "df_large.drop(columns=\"scenario\", inplace=True)\n",
    "df_large[\"termination_status\"] = df_large[\"termination_status\"] == \"LOCALLY_SOLVED\"\n",
    "df_large[\"total_time\"].fillna(df_large[\"solve_time\"], inplace=True)\n",
    "df_large.groupby(\"type\").agg({\"objective\": [\"mean\", \"std\"], \"solve_time\": [\"mean\", \"std\"], \"total_time\": [\"mean\", \"std\"], \"stage1_cost\": [\"mean\", \"std\"], \"stage1_pen\": [\"mean\", \"std\"], \"stage2_pen\": [\"mean\", \"std\"], \"termination_status\": [\"sum\"]})"
   ],
   "metadata": {
    "collapsed": false
   }
  },
  {
   "cell_type": "code",
   "execution_count": null,
   "outputs": [],
   "source": [],
   "metadata": {
    "collapsed": false
   }
  }
 ],
 "metadata": {
  "kernelspec": {
   "display_name": "Python 3",
   "language": "python",
   "name": "python3"
  },
  "language_info": {
   "codemirror_mode": {
    "name": "ipython",
    "version": 2
   },
   "file_extension": ".py",
   "mimetype": "text/x-python",
   "name": "python",
   "nbconvert_exporter": "python",
   "pygments_lexer": "ipython2",
   "version": "2.7.6"
  }
 },
 "nbformat": 4,
 "nbformat_minor": 0
}
